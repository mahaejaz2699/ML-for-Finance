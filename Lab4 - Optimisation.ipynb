{
 "cells": [
  {
   "cell_type": "markdown",
   "metadata": {},
   "source": [
    "# Lab 4: Data-Driven Optimisation\n",
    "\n",
    "The purpose of this lab session is to study in more depth optimisation notions and use them to model and solve optimisation programs. Recall that in a previous lecture we discussed the different formats of *linear programs* and how to switch from one formutation to another. "
   ]
  },
  {
   "cell_type": "markdown",
   "metadata": {},
   "source": [
    "## 1. Verifying the model design (by revisiting tasks from lab 3)"
   ]
  },
  {
   "cell_type": "markdown",
   "metadata": {},
   "source": [
    "In the previous lab session, we discussed two examples where you were asked to model them with linear programs and solve them using python libraries.\n",
    "\n",
    "We begin by revisiting these two examples and checking their solution. Please check *lab3-files* and in particular the *How to build a model* file.  "
   ]
  },
  {
   "cell_type": "markdown",
   "metadata": {},
   "source": [
    "**Example 1 (Task 5 in Lab 3):** Click Details to recall the example."
   ]
  },
  {
   "cell_type": "markdown",
   "metadata": {},
   "source": [
    "<details>\n",
    "A company will face the following cash requirements in the next eight quarters (positive entries\n",
    "represent cash needs while negative entries represent cash surpluses). \n",
    "\n",
    "| Q1 | Q2 | Q3 | Q4 | Q5 | Q6 | Q7 | Q8 |\n",
    "| --- | --- | --- | --- | --- | --- | --- | --- |\n",
    "| 100 | 500 | 100 | -600 | -500 | 200 | 600 | -900 |\n",
    "\n",
    "The company has three borrowing possibilities.\n",
    "<ul>\n",
    "<li> a 2-year loan available at the beginning of Q1, with a 1% interest per quarter.\n",
    "<li> The other two borrowing opportunities are available at the beginning of every quarter: a 6-\n",
    "month loan with a 1.8% interest per quarter, and a quarterly loan with a 2.5% interest for the\n",
    "quarter.\n",
    "</ul>\n",
    "    \n",
    "Any surplus can be invested at a 0.5% interest per quarter. Formulate a linear program that maximises\n",
    "the wealth of the company at the beginning of Q9. Solve the problem using **linprog** and interpret the\n",
    "solution.\n",
    "</details>"
   ]
  },
  {
   "cell_type": "markdown",
   "metadata": {},
   "source": [
    "**Task 1**: Please see below for the solution and check file *How to build the model* in the *lab3-files* folder. See if the model and the implementation makes sense to you."
   ]
  },
  {
   "cell_type": "code",
   "execution_count": null,
   "metadata": {},
   "outputs": [],
   "source": [
    "import numpy as np\n",
    "from scipy.optimize import linprog\n",
    "\n",
    "# I generate the vector of coefficients in the objective function and initialize the matrix of contraint coefficients\n",
    "c = np.concatenate([np.zeros(21), [-1]]) # Recall that linprog has a minimization objective, so we minimize -wealth\n",
    "A = np.zeros((8,22))\n",
    "\n",
    "# I create a row for each constraint\n",
    "A[0] = np.concatenate([[1,1,1,-1],np.zeros(18)])\n",
    "A[1] = np.concatenate([[-0.01, -0.018, -1.025, 1.005, 1, 1, -1],np.zeros(15)])\n",
    "A[2] = np.concatenate([[-0.01, -1.018, 0, 0, -0.018, -1.025, 1.005, 1, 1, -1],np.zeros(12)])\n",
    "A[3] = np.concatenate([[-0.01, 0, 0, 0, -1.018, 0, 0, -0.018, -1.025, 1.005, 1, 1, -1],np.zeros(9)])\n",
    "A[4] = np.concatenate([[-0.01], np.zeros(6), [-1.018, 0, 0, -0.018, -1.025, 1.005, 1, 1, -1],np.zeros(6)])\n",
    "A[5] = np.concatenate([[-0.01], np.zeros(9), [-1.018, 0, 0, -0.018, -1.025, 1.005, 1, 1, -1],np.zeros(3)])\n",
    "A[6] = np.concatenate([[-0.01], np.zeros(12), [-1.018, 0, 0, -0.018, -1.025, 1.005, 1, -1, 0]])\n",
    "A[7] = np.concatenate([[-1.01], np.zeros(15), [-1.018, 0, 0, -1.025, 1.005, -1]])\n",
    "\n",
    "b = [100, 500, 100, -600, -500, 200, 600, -900]\n",
    "\n",
    "# It is now time to solve. All variables are constrained to be non-negative, so I don't need to specify the bounds; this is the default\n",
    "res = linprog(c, A_eq=A, b_eq=b, method='revised simplex', options={\"disp\": True})\n",
    "\n",
    "# Print the solution. Recall that the wealth is the last variable. \n",
    "res.x"
   ]
  },
  {
   "cell_type": "markdown",
   "metadata": {},
   "source": [
    "**Example 2 (Task 6 in Lab 3):**  Click Details to recall the example."
   ]
  },
  {
   "cell_type": "markdown",
   "metadata": {},
   "source": [
    "<details>\n",
    "Consider a restaurant that is open seven days a week. Based on past experience, the number of workers needed on a particular day is given as follows: \n",
    "\n",
    "| Mon | Tue | Wed | Thu | Fri | Sat | Sun | \n",
    "| --- | --- | --- | --- | --- | --- | --- |\n",
    "| 14 | 13 | 15 | 16 | 19 | 18 | 11 |\n",
    "\n",
    "Every worker works five days in a week and has two days off in the following pattern: three days work, one day off, two days work, one day off. So, there are workers working on Mon-Tue-Wed-Fri-Sat, other workers on Tue-Wed-Thu-Sat-Sun, etc. How can we minimize the number of workers that staff the restaurant? \n",
    "</details>"
   ]
  },
  {
   "cell_type": "markdown",
   "metadata": {},
   "source": [
    "**Task 2**: Please see below for the solution and check file How to build the model in the lab3-files folder. See if the model and the implementation makes sense to you."
   ]
  },
  {
   "cell_type": "code",
   "execution_count": null,
   "metadata": {},
   "outputs": [],
   "source": [
    "import numpy as np\n",
    "from scipy.optimize import linprog\n",
    "\n",
    "# I generate the vector of coefficients in the objective function \n",
    "c = np.array([1,1,1,1,1,1,1])\n",
    "A = np.zeros((7,7))\n",
    "\n",
    "# I create a row for each constraint\n",
    "A[0] = np.array([-1,0,-1,-1,-1,0,-1])\n",
    "A[1] = np.array([-1,-1,0,-1,-1,-1,0])\n",
    "A[2] = np.array([0,-1,-1,0,-1,-1,-1])\n",
    "A[3] = np.array([-1,0,-1,-1,0,-1,-1])\n",
    "A[4] = np.array([-1,-1,0,-1,-1,0,-1])\n",
    "A[5] = np.array([-1,-1,-1,0,-1,-1,0])\n",
    "A[6] = np.array([0,-1,-1,-1,0,-1,-1])\n",
    "b = np.array([-14, -13, -15, -16, -19, -18, -11])\n",
    "\n",
    "# It is now time to solve. All variables are constrained to be non-negative, so I don't need to specify the bounds; this is the default\n",
    "res = linprog(c, A_ub=A, b_ub=b, options={\"disp\": True})\n",
    "\n",
    "# Print the solution. Recall that the wealth is the last variable. \n",
    "res.x"
   ]
  },
  {
   "cell_type": "markdown",
   "metadata": {},
   "source": [
    "It is clear from the solution that our model did **not** take into account the fact that the number of workers must be an *integer* number. Hence, in last week's lab  we discussed integer linear programming (see Section 5 in Lab 3)."
   ]
  },
  {
   "cell_type": "markdown",
   "metadata": {},
   "source": [
    "## 2. Testing our understanding on Duality"
   ]
  },
  {
   "cell_type": "markdown",
   "metadata": {},
   "source": [
    "### Complementary Slackness and Optimality - An example\n",
    "\n",
    "In the most recent lecture, we discussed duality and, among other terrifying things, complementary slackness. Let's see an example.\n",
    "\n",
    "\\begin{eqnarray*}\n",
    "\\max & \\hspace{1cm}& x_1 - 2x_2 +3x_3 \\\\\n",
    "\\text{subject to} & \\hspace{1cm}&x_1+x_2-2x_3\\leq 1\\\\\n",
    "& \\hspace{1cm}&2x_1-x_2-3x_3 \\leq 4\\\\\n",
    "& \\hspace{1cm}&x_1+x_2+5x_3 \\leq 2\\\\\n",
    "& \\hspace{1cm}&x_1, x_2, x_3 \\geq 0\n",
    "\\end{eqnarray*}\n",
    "\n",
    "Let's build its dual Linear Program. Observe that the LP above is a maximisation one. This should not be a problem, as we have seen that the primal and the dual LPs are two \"siblings\" where one LP is a minimisation problem while the other is a maximisation one. \n",
    "\n",
    "For variable $x_1$ of the primal LP, we obtain the constraint for the dual LP that $y_1+2y_2+y_3 \\geq 1$. This is because we multiply each constraint above with a coefficient $y_i$ that is non-negative, and we wish the total coefficient of $x_1$ in this weighted combination to be bounded from below by the coefficient of $x_1$ in the objective function of the primal LP.\n",
    "\n",
    "It is the same reasoning that gives us the additional constraints $y_1 - y_2 + y_3 \\geq -2$ and $-2y_1-3y_2+5y_3 \\geq 3$.\n",
    "Additionally, we require that $y_1, y_2, y_3 \\geq 0$.\n",
    "\n",
    "The objective function of the dual LP is now a *minimisation* function and is actually to\n",
    "\n",
    "\\begin{eqnarray*}\n",
    "\\min & \\hspace{1cm}& y_1 + 4y_2 +2y_3 \\\\\n",
    "\\end{eqnarray*}\n",
    "\n",
    "Overall, we obtain that the dual LP is \n",
    "\\begin{eqnarray*}\n",
    "\\min & \\hspace{1cm}& y_1 + 4y_2 +2y_3 \\\\\n",
    "\\text{subject to} & \\hspace{1cm}&y_1+2y_2+y_3 \\geq 1\\\\\n",
    "& \\hspace{1cm}&y_1 - y_2 + y_3 \\geq -2\\\\\n",
    "& \\hspace{1cm}&-2y_1-3y_2+5y_3 \\geq 3\\\\\n",
    "& \\hspace{1cm}&y_1, y_2, y_3 \\geq 0\n",
    "\\end{eqnarray*}\n",
    "\n",
    "Say someone tells us that $x^*_1 = 9/7, x^*_2 = 0, x^*_3 = 1/7$ is an optimal solution for the primal LP (the maximisation problem). Let’s try to verify that claim.\n",
    "\n",
    "At least those values satisfy the constraints! The objective value of the primal LP for these values becomes $12/7$.\n",
    "\n",
    "Now let’s see what complementary slackness would tells us about an optimal solution $y^*_1, y^*_2, y^*_3$ of the dual. \n",
    "  \n",
    "Because $x^*_1$ and $x^*_3$ are non-zero, the first and third constraints of the dual must be tight!\n",
    "That is $y^*_1+2y^*_2+y^*_3 = 1$ and $-2y^*_1-3y^*_2+5y^*_3 = 3$\n",
    " \n",
    "That’s only two equations for three unknowns! \n",
    "\n",
    "But checking the primal, we see that the alleged optimal solution shows that the second constraing in the primal is *not* tight (that is $2x^*_1-x^*_2-3x^*_3 < 4$). By complementary slackness again, this implies that $y^*_2 = 0$. Plugging that in we get the following system:\n",
    "$y^*_1 +y^*_3 = 1$ and $-2y^*_1 +5y^*_3 = 3$ whose only solution is $y^*_1 = 2/7$ and $y^*_3 = 5/7$; recall that we already established that $y^*_2 = 0$.\n",
    "\n",
    "Observe that $y^*_1+4y^*_2+2y^*_3 = 12/7$. \n",
    "This means that the primal and the dual appear to have the same value and one would think that we are done and we have verified the claim. <b>That's not entirely correct!</b>\n",
    "\n",
    "We still need to check whether the \"optimal\" values for the dual satisfy the contraints of the dual. One can check that this is indeed the case and now, finally, we can verify the claim."
   ]
  },
  {
   "cell_type": "markdown",
   "metadata": {},
   "source": [
    "## 3. Using different solvers"
   ]
  },
  {
   "cell_type": "markdown",
   "metadata": {},
   "source": [
    "### 3a. OPTIONAL READING: Excel SOLVER\n",
    "We now work with a solver outside Python, namely the solver embedded in the well-known Excel application. Please check the folder *lab4-files* in the CF969 moodle page."
   ]
  },
  {
   "cell_type": "markdown",
   "metadata": {},
   "source": [
    "**Task 5:** Please open the file *How to add Solver to Excel.pdf* and work through the instructions to get the Excel SOLVER add-in to work. Using the instructions, run Excel’s SOLVER on the example linear program (LP) described in the file *LP with Excel (model building).pdf*, to which *How to add Solver to Excel.pdf* also refers.\n",
    "\n",
    "**Task 6:** Solve Example 2 (Task 6 in Lab 3) using Excel SOLVER. Recall that we now need to impose the constraint for an integral solution."
   ]
  },
  {
   "cell_type": "markdown",
   "metadata": {},
   "source": [
    "**Solution to Task 6**: Check file *task6-sol.xlsx*."
   ]
  },
  {
   "cell_type": "markdown",
   "metadata": {},
   "source": [
    "### 3b. Gurobi and Gurobipy\n",
    "\n",
    "Gurobi is a powerful optimisation software. It is installed in the lab computers and we covered an example in the most recent lecture on how to use it. In case you wish to check it now, please visit slides 23 to 32 in file *CF969 - 3 - Data Driven Optimisation - Linear Programming.pptx* in the CF969 moodle page.\n",
    "\n",
    "Apart from using Gurobi on its own, we have the option to invoke Gurobi through Python, by using the *gurobipy* package.\n",
    "\n",
    "#### Installing Gurobipy\n",
    "\n",
    "To install gurobipy, please see https://support.gurobi.com/hc/en-us/articles/360044290292-How-do-I-install-Gurobi-for-Python-\n",
    "\n",
    "If your are using Horizon (https://csee-horizon.essex.ac.uk/portal/webclient/index.html), please open a command prompt and execute (while still in drive m:\\) \"m:\\python -m pip install gurobipy\" (without the quotes)\n",
    "\n",
    "\n",
    "##### Solving an Integer Linear Program with Gurobipy\n",
    "\n",
    "The following example shows how to use gurobipy to solve an integer linear program. Recall that in integer linear programs, each variable must be given an integer value. Such constraints arise quite naturally in many different settings.\n",
    "\n",
    "\n",
    "#### Task Assignment Problem formulation\n",
    "\n",
    "Consider three tasks that need to be completed: let's call them A, B, and C. \n",
    "\n",
    "Consider three users that, in principle, can do the tasks: 1, 2, and 3.\n",
    "\n",
    "#### Data \n",
    "\n",
    "The ability to perform each task is as follows: User 1 can execute task A with quality 0.53, task B with quality 0.27 and task C with quality 0.13. Similarly, user 2 has 0.8 for task A, 0.47 for task B, and 0.67 for task C, and finally, user 3 has 0.53 for task A, 0.73 for task B, and 0.47 for task C.\n",
    "\n",
    "**Assumption**: Only one user can be assigned to a task, and each user must execute at most one task.\n",
    "\n",
    "#### Problem statement\n",
    "\n",
    "Determine an assignment that ensures that each task is executed and each user executes at most one tasks in order to maximize the total quality of the tasks executed according to the assignment.\n",
    "\n",
    "#### Decision variables\n",
    "\n",
    "The decision variable $x_{r,\\; j} = 1$ represents that user r is assigned to task j, and 0 otherwise, for  r=1,2,3 and 𝑗=1,2,3.\n",
    "\n",
    "#### Constraints\n",
    "\n",
    "#### Jobs constraints\n",
    "\n",
    "For each task 𝑗=A,B,C, exactly one user from r=1,2,3 must be assigned.\n",
    "\n",
    "Constraint (A=1): $x_{1,\\; A} + x_{2,\\; 1} + x_{3,\\; 1} = 1$\n",
    "\n",
    "Constraint (B=2): $x_{1,\\; 2} + x_{2,\\; 2} + x_{3,\\; 2} = 1$\n",
    "\n",
    "Constraint (C=3): $x_{1,\\; 3} + x_{2,\\; 3} + x_{3,\\; 3} = 1$\n",
    "\n",
    "#### Resources constraints\n",
    "\n",
    "For each user r=1,2,3, at most one task from j=A,B,C can be assigned.\n",
    "\n",
    "Constraint (user 1): $x_{1,\\; 1} + x_{1,\\; 2} + x_{1,\\; 3}  \\leq 1$\n",
    "\n",
    "Constraint (user 2): $x_{2,\\; 1} + x_{2,\\; 2} + x_{2,\\; 3}  \\leq 1$\n",
    "\n",
    "Constraint (user 3): $x_{2,\\; 1} + x_{2,\\; 2} + x_{2,\\; 3}  \\leq 1$\n",
    "\n",
    "#### Objective function\n",
    "\n",
    "The objective function is to maximize the total quality of the assignments while satisfying the user and task constraints.\n",
    "\n",
    "$$\n",
    "\\max \\; (53x_{1,\\; 1} + 80x_{2,\\; 1} + 53x_{3,\\; 1}) + (27x_{1,\\; 2} + 47x_{2,\\; 2} + 73x_{3,\\; 2})\n",
    "+ (13x_{1,\\; 3} + 67x_{2,\\; 3} + 47x_{3,\\; 3})\n",
    "$$\n",
    "\n",
    "\n"
   ]
  },
  {
   "cell_type": "code",
   "execution_count": null,
   "metadata": {},
   "outputs": [],
   "source": [
    "!pip install gurobipy --user\n",
    "# import gurobi library\n",
    "from gurobipy import *"
   ]
  },
  {
   "cell_type": "markdown",
   "metadata": {},
   "source": [
    "## Data\n",
    "The list R contains the id's of the three users: 1, 2, and 3. \n",
    "\n",
    "The list J contains the names of the tasks: A, B, and C."
   ]
  },
  {
   "cell_type": "code",
   "execution_count": null,
   "metadata": {},
   "outputs": [],
   "source": [
    "# resources and jobs sets\n",
    "R = ['1', '2', '3']\n",
    "J = ['A', 'B', 'C']"
   ]
  },
  {
   "cell_type": "markdown",
   "metadata": {},
   "source": [
    "$r \\in R$ index and set of users.\n",
    "\n",
    "$j \\in J$ index and set of tasks.\n",
    "\n",
    "The following “multidict” function describes the quality score associated with each possible combination of a user and a task"
   ]
  },
  {
   "cell_type": "code",
   "execution_count": null,
   "metadata": {},
   "outputs": [],
   "source": [
    "# matching score data\n",
    "combinations, ms = multidict({\n",
    "    ('1', 'A'): 53,\n",
    "    ('1', 'B'): 27,\n",
    "    ('1', 'C'): 13,\n",
    "    ('2', 'A'): 80,\n",
    "    ('2', 'B'): 47,\n",
    "    ('2', 'C'): 67,\n",
    "    ('3', 'A'): 53,\n",
    "    ('3', 'B'): 73,\n",
    "    ('3', 'C'): 47\n",
    "})"
   ]
  },
  {
   "cell_type": "markdown",
   "metadata": {},
   "source": [
    "The following function generates an empty model object “m” and takes the string “RAP” model name as its argument."
   ]
  },
  {
   "cell_type": "code",
   "execution_count": null,
   "metadata": {},
   "outputs": [],
   "source": [
    "# Declare and initialize model\n",
    "m = Model('RAP')"
   ]
  },
  {
   "cell_type": "markdown",
   "metadata": {},
   "source": [
    "## Decision variables\n",
    "\n",
    "The decision variable $x_{r,\\; j} = 1$ represents that user r is assigned to task j, and 0 otherwise, for $r \\in R$ and $j \\in J $.\n",
    "\n",
    "The “addVars()” method defines the decision variables of the model object “m”.  "
   ]
  },
  {
   "cell_type": "code",
   "execution_count": null,
   "metadata": {},
   "outputs": [],
   "source": [
    "# Create decision variables for the RAP model\n",
    "x = m.addVars(combinations, vtype=GRB.INTEGER, name=\"assign\")"
   ]
  },
  {
   "cell_type": "markdown",
   "metadata": {},
   "source": [
    "## Task constraints\n",
    "\n",
    "For each task 𝑗= A,B,C, exactly one user from r=1,2,3 must be assigned.\n",
    "\n",
    "Constraint (A=1): $x_{1,\\; 1} + x_{2,\\; 1} + x_{3,\\; 1} = 1$\n",
    "\n",
    "Constraint (B=2): $x_{1,\\; 2} + x_{2,\\; 2} + x_{3,\\; 2} = 1$\n",
    "\n",
    "Constraint (C=3): $x_{1,\\; 3} + x_{2,\\; 3} + x_{3,\\; 3} = 1$\n",
    "\n",
    "The “addConstrs()” method defines the constraints of the model object “m”. \n"
   ]
  },
  {
   "cell_type": "code",
   "execution_count": null,
   "metadata": {},
   "outputs": [],
   "source": [
    "# create tasks  constraints\n",
    "job = m.addConstrs((x.sum('*',j) == 1 for j in J), 'task')"
   ]
  },
  {
   "cell_type": "markdown",
   "metadata": {},
   "source": [
    "## User constraints\n",
    "\n",
    "For each user r=1,2,3, at most one task from r=1,2,3 can be assigned.\n",
    "\n",
    "Constraint (1): $x_{1,\\; 1} + x_{1,\\; 2} + x_{1,\\; 3}  \\leq 1$\n",
    "\n",
    "Constraint (2): $x_{2,\\; 1} + x_{2,\\; 2} + x_{2,\\; 3}  \\leq 1$\n",
    "\n",
    "Constraint (3): $x_{3,\\; 1} + x_{3,\\; 2} + x_{3,\\; 3}  \\leq 1$\n",
    "\n",
    "The “addConstrs()” method defines the constraints of the model object “m”. "
   ]
  },
  {
   "cell_type": "code",
   "execution_count": null,
   "metadata": {},
   "outputs": [],
   "source": [
    "# create resources constraints\n",
    "resource = m.addConstrs((x.sum(r,'*') <= 1 for r in R), 'user')"
   ]
  },
  {
   "cell_type": "markdown",
   "metadata": {},
   "source": [
    "## Objective Function\n",
    "\n",
    "The objective function is to maximize the total quality score of the assignments.\n",
    "\n",
    "$$\n",
    "Max \\; (53x_{1,\\; 1} + 80x_{2,\\; 1} + 53x_{3,\\; 1}) + (27x_{1,\\; 2} + 47x_{2,\\; 2} + 73x_{3,\\; 2})\n",
    "+ (13x_{1,\\; 3} + 67x_{2,\\; 3} + 47x_{3,\\; 3})\n",
    "$$\n",
    "\n",
    "The “setObjective()” method defines the objective function of the model object “m”. "
   ]
  },
  {
   "cell_type": "code",
   "execution_count": null,
   "metadata": {},
   "outputs": [],
   "source": [
    "# The objective is to maximize total matching score of the assignments\n",
    "m.setObjective(x.prod(ms), GRB.MAXIMIZE)"
   ]
  },
  {
   "cell_type": "markdown",
   "metadata": {},
   "source": [
    "## Objective function\n",
    "Notice that \n",
    "$$\n",
    "(53x_{1,\\; 1} + 80x_{2,\\; 1} + 53x_{3,\\; 1}) = \\sum_{r \\; \\in \\; R} ms_{r,1}x_{r,1} \\\\\n",
    "(27x_{1,\\; 2} + 47x_{2,\\; 2} + 73x_{3,\\; 2}) = \\sum_{r \\; \\in \\; R} ms_{r,2}x_{r,2} \\\\\n",
    "(13x_{1,\\; 3} + 67x_{2,\\; 3} + 47x_{3,\\; 3})  = \\sum_{r \\; \\in \\; R} ms_{r,3}x_{r,3}\n",
    "$$\n",
    "\n",
    "Hence, the objective function can be expressed as follows\n",
    "\n",
    "$$\n",
    "Max \\; \\sum_{j \\; \\in \\; J} \\sum_{r \\; \\in \\; R} ms_{r,j}x_{r,j}\n",
    "$$"
   ]
  },
  {
   "cell_type": "code",
   "execution_count": null,
   "metadata": {},
   "outputs": [],
   "source": [
    "# save model for inspection\n",
    "m.write('RAP.lp')"
   ]
  },
  {
   "cell_type": "code",
   "execution_count": null,
   "metadata": {},
   "outputs": [],
   "source": [
    "# run optimization engine\n",
    "m.optimize()"
   ]
  },
  {
   "cell_type": "code",
   "execution_count": null,
   "metadata": {},
   "outputs": [],
   "source": [
    "def print_solution(model):\n",
    "    for var in model.getVars():\n",
    "        if abs(var.x) > 1e-6:\n",
    "            print(\"{0}: {1}\".format(var.varName, var.x))\n",
    "    print('Total quality score: {0}'.format(model.objVal))\n",
    "    return None\n",
    "\n",
    "# display optimal values of decision variables\n",
    "print_solution(m)   \n"
   ]
  },
  {
   "cell_type": "markdown",
   "metadata": {},
   "source": [
    "**Task 7:** Solve Example 1 using gurobipy"
   ]
  },
  {
   "cell_type": "markdown",
   "metadata": {},
   "source": [
    "**Solution to Task 7:** See the next snippet. Uncomment the line and run it."
   ]
  },
  {
   "cell_type": "code",
   "execution_count": null,
   "metadata": {},
   "outputs": [],
   "source": [
    "# %load ./sol7.py\n",
    "import numpy as np\n",
    "from gurobipy import *\n",
    "from gurobipy import GRB\n",
    "\n",
    "# Declare and initialize model\n",
    "m = Model('Task 7')\n",
    "\n",
    "# Add variables\n",
    "x = m.addMVar(shape=22, vtype=GRB.CONTINUOUS, name=\"x\")\n",
    "\n",
    "# Create matrix A\n",
    "A = np.zeros((8,22))\n",
    "\n",
    "# I create a row for each constraint\n",
    "A[0] = np.concatenate([[1,1,1,-1],np.zeros(18)])\n",
    "A[1] = np.concatenate([[-0.01, -0.018, -1.025, 1.005, 1, 1, -1],np.zeros(15)])\n",
    "A[2] = np.concatenate([[-0.01, -1.018, 0, 0, -0.018, -1.025, 1.005, 1, 1, -1],np.zeros(12)])\n",
    "A[3] = np.concatenate([[-0.01, 0, 0, 0, -1.018, 0, 0, -0.018, -1.025, 1.005, 1, 1, -1],np.zeros(9)])\n",
    "A[4] = np.concatenate([[-0.01], np.zeros(6), [-1.018, 0, 0, -0.018, -1.025, 1.005, 1, 1, -1],np.zeros(6)])\n",
    "A[5] = np.concatenate([[-0.01], np.zeros(9), [-1.018, 0, 0, -0.018, -1.025, 1.005, 1, 1, -1],np.zeros(3)])\n",
    "A[6] = np.concatenate([[-0.01], np.zeros(12), [-1.018, 0, 0, -0.018, -1.025, 1.005, 1, -1, 0]])\n",
    "A[7] = np.concatenate([[-1.01], np.zeros(15), [-1.018, 0, 0, -1.025, 1.005, -1]])\n",
    "\n",
    "# The right-hand-side constants\n",
    "rhs = np.array([100, 500, 100, -600, -500, 200, 600, -900])\n",
    "\n",
    "# Adding the constraints\n",
    "m.addConstr(A @ x == rhs, name=\"c\")\n",
    "\n",
    "# Setting the objective function. Here, I can be flexible and define a maximization problem, unlike in linprog\n",
    "obj = np.concatenate([[0]*21,[1]])\n",
    "m.setObjective(obj @ x, GRB.MAXIMIZE)\n",
    "\n",
    "m.optimize()\n",
    "print(x.X)"
   ]
  },
  {
   "cell_type": "markdown",
   "metadata": {},
   "source": [
    "## 4. Quadratic programming - Portfolio optimisation"
   ]
  },
  {
   "cell_type": "markdown",
   "metadata": {},
   "source": [
    "So far we have considered linear programs, that is, the objective function was a linear function and so are the constraints. We now turn our attention to a more general class of programs, where the objective function can be a quadratic function. \n",
    "\n",
    "In a previous lecture we discussed Markowitz's [portfolio optimisation](https://en.wikipedia.org/wiki/Markowitz_model) problem. In that, we want to find the fraction of the portfolio to invest among a set of stocks that balances risk and return. It is a Quadratic Programming (QP) model with vector and matrix data for returns and risk, respectively.  \n",
    "\n",
    "The discussion below is slightly adapted from https://www.gurobi.com/jupyter_models/portfolio-selection-optimization/.\n",
    "\n",
    "\n",
    "## Model Formulation\n",
    "### Parameters\n",
    "\n",
    "We use the following notation:\n",
    "\n",
    "- $\\mathbf{\\mu}$: n-element vector denoting the return for each stock\n",
    "- $Q$: n x n matrix measuring the covariance among stocks. In the lecture, we modelled $q_{ij}$ as $q_{ij} = \\rho_{ij}\\sigma_i\\sigma_j$, where $\\rho_{ij}$ is the *correlation coefficient* and $\\sigma_i, \\sigma_j$ are the *standard deviations* for stocks $i$ and $j$ respectively.\n",
    "\n",
    "There is one additional parameter when solving the model parametrically:\n",
    "\n",
    "- R: target return\n",
    "\n",
    "\n",
    "### Decision Variables\n",
    "- $x \\ge 0$: n-element vector where each element represents the fraction of the portfolio to invest in each stock\n",
    "\n",
    "### Objective Function\n",
    "Minimize the total risk, a convex quadratic function:\n",
    "\n",
    "\\begin{equation}\n",
    "\\min x^T Q x\n",
    "\\end{equation}\n",
    "\n",
    "### Constraints\n",
    "\n",
    "Allocate the entire portfolio: the total investments should be 1.0 (100%), where $\\mathbf{1}$ is a unit vector (all 1's):\n",
    "\n",
    "\\begin{equation}\n",
    "\\mathbf{1}^T  x = 1\n",
    "\\end{equation}\n",
    "\n",
    "\n",
    "Return: In the lecture we set a constraint that the target return should be at least $R$. When we solve the model parametrically for different return values $r$, we add an equality constraint on the target return:\n",
    "\n",
    "\\begin{equation}\n",
    "\\mathbf{\\mu} x = R\n",
    "\\end{equation}"
   ]
  },
  {
   "cell_type": "markdown",
   "metadata": {},
   "source": [
    "## Python Implementation\n",
    "### Stock data\n",
    "Use [yfinance](https://pypi.org/project/yfinance/) library to get the latest 2 years of _actual stock data_ from the 20 most profitable US companies, [according to Wikipedia](https://en.wikipedia.org/wiki/List_of_largest_companies_in_the_United_States_by_revenue#List_of_companies_by_profit)."
   ]
  },
  {
   "cell_type": "code",
   "execution_count": 1,
   "metadata": {},
   "outputs": [
    {
     "name": "stdout",
     "output_type": "stream",
     "text": [
      "Collecting gurobipy\n",
      "  Downloading gurobipy-12.0.2-cp39-cp39-macosx_10_9_universal2.whl (12.3 MB)\n",
      "\u001b[2K     \u001b[90m━━━━━━━━━━━━━━━━━━━━━━━━━━━━━━━━━━━━━━━━\u001b[0m \u001b[32m12.3/12.3 MB\u001b[0m \u001b[31m7.5 MB/s\u001b[0m eta \u001b[36m0:00:00\u001b[0m00:01\u001b[0m00:01\u001b[0m\n",
      "\u001b[?25hRequirement already satisfied: yfinance in /Users/mahaejaz/opt/anaconda3/lib/python3.9/site-packages (0.2.63)\n",
      "Requirement already satisfied: protobuf>=3.19.0 in /Users/mahaejaz/opt/anaconda3/lib/python3.9/site-packages (from yfinance) (6.31.1)\n",
      "Requirement already satisfied: pytz>=2022.5 in /Users/mahaejaz/opt/anaconda3/lib/python3.9/site-packages (from yfinance) (2025.2)\n",
      "Requirement already satisfied: platformdirs>=2.0.0 in /Users/mahaejaz/opt/anaconda3/lib/python3.9/site-packages (from yfinance) (2.5.2)\n",
      "Requirement already satisfied: curl_cffi>=0.7 in /Users/mahaejaz/opt/anaconda3/lib/python3.9/site-packages (from yfinance) (0.11.3)\n",
      "Requirement already satisfied: pandas>=1.3.0 in /Users/mahaejaz/opt/anaconda3/lib/python3.9/site-packages (from yfinance) (1.4.4)\n",
      "Requirement already satisfied: beautifulsoup4>=4.11.1 in /Users/mahaejaz/opt/anaconda3/lib/python3.9/site-packages (from yfinance) (4.11.1)\n",
      "Requirement already satisfied: websockets>=13.0 in /Users/mahaejaz/opt/anaconda3/lib/python3.9/site-packages (from yfinance) (15.0.1)\n",
      "Requirement already satisfied: numpy>=1.16.5 in /Users/mahaejaz/opt/anaconda3/lib/python3.9/site-packages (from yfinance) (1.21.5)\n",
      "Requirement already satisfied: requests>=2.31 in /Users/mahaejaz/opt/anaconda3/lib/python3.9/site-packages (from yfinance) (2.32.4)\n",
      "Requirement already satisfied: multitasking>=0.0.7 in /Users/mahaejaz/opt/anaconda3/lib/python3.9/site-packages (from yfinance) (0.0.11)\n",
      "Requirement already satisfied: frozendict>=2.3.4 in /Users/mahaejaz/opt/anaconda3/lib/python3.9/site-packages (from yfinance) (2.4.6)\n",
      "Requirement already satisfied: peewee>=3.16.2 in /Users/mahaejaz/opt/anaconda3/lib/python3.9/site-packages (from yfinance) (3.18.1)\n",
      "Requirement already satisfied: soupsieve>1.2 in /Users/mahaejaz/opt/anaconda3/lib/python3.9/site-packages (from beautifulsoup4>=4.11.1->yfinance) (2.3.1)\n",
      "Requirement already satisfied: cffi>=1.12.0 in /Users/mahaejaz/opt/anaconda3/lib/python3.9/site-packages (from curl_cffi>=0.7->yfinance) (1.15.1)\n",
      "Requirement already satisfied: certifi>=2024.2.2 in /Users/mahaejaz/opt/anaconda3/lib/python3.9/site-packages (from curl_cffi>=0.7->yfinance) (2025.4.26)\n",
      "Requirement already satisfied: python-dateutil>=2.8.1 in /Users/mahaejaz/opt/anaconda3/lib/python3.9/site-packages (from pandas>=1.3.0->yfinance) (2.8.2)\n",
      "Requirement already satisfied: charset_normalizer<4,>=2 in /Users/mahaejaz/opt/anaconda3/lib/python3.9/site-packages (from requests>=2.31->yfinance) (2.0.4)\n",
      "Requirement already satisfied: idna<4,>=2.5 in /Users/mahaejaz/opt/anaconda3/lib/python3.9/site-packages (from requests>=2.31->yfinance) (3.3)\n",
      "Requirement already satisfied: urllib3<3,>=1.21.1 in /Users/mahaejaz/opt/anaconda3/lib/python3.9/site-packages (from requests>=2.31->yfinance) (1.26.11)\n",
      "Requirement already satisfied: pycparser in /Users/mahaejaz/opt/anaconda3/lib/python3.9/site-packages (from cffi>=1.12.0->curl_cffi>=0.7->yfinance) (2.21)\n",
      "Requirement already satisfied: six>=1.5 in /Users/mahaejaz/opt/anaconda3/lib/python3.9/site-packages (from python-dateutil>=2.8.1->pandas>=1.3.0->yfinance) (1.16.0)\n",
      "Installing collected packages: gurobipy\n",
      "Successfully installed gurobipy-12.0.2\n",
      "Note: you may need to restart the kernel to use updated packages.\n"
     ]
    }
   ],
   "source": [
    "%pip install gurobipy yfinance"
   ]
  },
  {
   "cell_type": "code",
   "execution_count": 2,
   "metadata": {},
   "outputs": [
    {
     "name": "stderr",
     "output_type": "stream",
     "text": [
      "/var/folders/nf/hk3ypf6j0bvd96jqrr9zn22m0000gn/T/ipykernel_43825/3325442938.py:7: FutureWarning: YF.download() has changed argument auto_adjust default to True\n",
      "  data = yf.download(stocks, period='2y')\n",
      "[*********************100%***********************]  20 of 20 completed\n"
     ]
    }
   ],
   "source": [
    "import yfinance as yf\n",
    "\n",
    "stocks = ['BRK-A', 'AAPL', 'MSFT', 'JPM', 'GOOG', 'BAC', 'INTC', 'WFC',\n",
    "          'C', 'VZ', 'PFE', 'JNJ', 'META', 'F', 'GS', 'XOM',\n",
    "          'FNMA', 'T', 'UNH', 'V' ]\n",
    "\n",
    "data = yf.download(stocks, period='2y')"
   ]
  },
  {
   "cell_type": "markdown",
   "metadata": {},
   "source": [
    "### Compute return and covariance\n",
    "\n",
    "Using the downloaded stock data, find $\\mu$ (return), $Q$ (covariance) and standard deviation values for stock prices:"
   ]
  },
  {
   "cell_type": "code",
   "execution_count": null,
   "metadata": {},
   "outputs": [],
   "source": [
    "import numpy as np\n",
    "\n",
    "closes = np.transpose(np.array(data.Close)) # matrix of daily closing prices\n",
    "absdiff = np.diff(closes)                   # change in closing price each day\n",
    "reldiff = np.divide(absdiff, closes[:,:-1]) # relative change in daily closing price\n",
    "mu = np.mean(reldiff, axis=1)            # mean price change\n",
    "Q = np.cov(reldiff)                     # covariance (standard deviations)\n",
    "std = np.std(reldiff, axis=1)               # standard deviation"
   ]
  },
  {
   "cell_type": "markdown",
   "metadata": {},
   "source": [
    "## Minimise risk by solving QP model"
   ]
  },
  {
   "cell_type": "code",
   "execution_count": null,
   "metadata": {},
   "outputs": [],
   "source": [
    "import gurobipy as gp\n",
    "from gurobipy import GRB\n",
    "from math import sqrt\n",
    "\n",
    "# Create an empty model\n",
    "m = gp.Model('portfolio')\n",
    "\n",
    "# Add matrix variable for the stocks\n",
    "x = m.addMVar(len(stocks))\n",
    "\n",
    "# The objective is to minimise risk (squared).  This is modeled using the\n",
    "# covariance matrix, which measures the historical correlation between stocks\n",
    "portfolio_risk = x @ Q @ x\n",
    "m.setObjective(portfolio_risk, GRB.MINIMIZE)\n",
    "\n",
    "# Fix budget with an equality constraint\n",
    "m.addConstr(x.sum() == 1, 'budget')\n",
    "\n",
    "# Verify model formulation\n",
    "m.write('portfolio_selection_optimization.lp')\n",
    "\n",
    "# Optimize model to find the minimum risk portfolio\n",
    "m.optimize()"
   ]
  },
  {
   "cell_type": "markdown",
   "metadata": {},
   "source": [
    "**Task 8:** What have we computed above? Is there something \"missing\" from the quadratic program?\n",
    "**Solution** Click on *Details* below to reveal it."
   ]
  },
  {
   "cell_type": "markdown",
   "metadata": {},
   "source": [
    "<details>\n",
    "    There is no constraint on the expected return. In effect, we are computing the minimum risk portfolio without any interest in our return.\n",
    "</details>"
   ]
  },
  {
   "cell_type": "markdown",
   "metadata": {},
   "source": [
    "## Display minimum risk portfolio using Pandas"
   ]
  },
  {
   "cell_type": "code",
   "execution_count": null,
   "metadata": {},
   "outputs": [],
   "source": [
    "import pandas as pd\n",
    "minrisk_volatility = sqrt(m.ObjVal)\n",
    "minrisk_return = mu @ x.X # the notation <variable name>.X returns the value of the variable\n",
    "pd.DataFrame(data=np.append(x.X, [minrisk_volatility, minrisk_return]),\n",
    "             index=stocks + ['Volatility', 'Expected Return'],\n",
    "             columns=['Minimum Risk Portfolio'])"
   ]
  },
  {
   "cell_type": "markdown",
   "metadata": {},
   "source": [
    "## Compute the [efficient frontier](https://en.wikipedia.org/wiki/Efficient_frontier)\n",
    "\n",
    "Solve the QP parametrically to find the lowest risk portfolio for different expected returns.\n"
   ]
  },
  {
   "cell_type": "code",
   "execution_count": null,
   "metadata": {},
   "outputs": [],
   "source": [
    "# Create an expression representing the expected return for the portfolio\n",
    "portfolio_return = mu @ x\n",
    "target = m.addConstr(portfolio_return == minrisk_return, 'target')\n",
    "\n",
    "# Solve for efficient frontier by varying target return\n",
    "frontier = np.empty((2,0))\n",
    "for r in np.linspace(mu.min(), mu.max(), 25):\n",
    "    target.rhs = r\n",
    "    m.optimize()\n",
    "    frontier = np.append(frontier, [[sqrt(m.ObjVal)],[r]], axis=1)"
   ]
  },
  {
   "cell_type": "markdown",
   "metadata": {},
   "source": [
    "## Plot results\n",
    "Use the matplot library to plot the optimized solutions, along with the individual stocks:"
   ]
  },
  {
   "cell_type": "code",
   "execution_count": null,
   "metadata": {},
   "outputs": [],
   "source": [
    "import matplotlib.pyplot as plt\n",
    "#plt.figure(figsize=(10,10))\n",
    "\n",
    "fig, ax = plt.subplots(figsize=(10,8))\n",
    "\n",
    "# Plot volatility versus expected return for individual stocks\n",
    "ax.scatter(x=std, y=mu,\n",
    "           color='Blue', label='Individual Stocks')\n",
    "for i, stock in enumerate(stocks):\n",
    "    ax.annotate(stock, (std[i], mu[i]))\n",
    "\n",
    "# Plot volatility versus expected return for minimum risk portfolio\n",
    "ax.scatter(x=minrisk_volatility, y=minrisk_return, color='DarkGreen')\n",
    "ax.annotate('Minimum\\nRisk\\nPortfolio', (minrisk_volatility, minrisk_return),\n",
    "            horizontalalignment='right')\n",
    "\n",
    "# Plot efficient frontier\n",
    "ax.plot(frontier[0], frontier[1], label='Efficient Frontier', color='DarkGreen')\n",
    "\n",
    "# Format and display the final plot\n",
    "ax.axis([frontier[0].min()*0.7, frontier[0].max()*1.3, mu.min()*1.2, mu.max()*1.2])\n",
    "ax.set_xlabel('Volatility (standard deviation)')\n",
    "ax.set_ylabel('Expected Return')\n",
    "ax.legend()\n",
    "ax.grid()\n",
    "plt.show()"
   ]
  }
 ],
 "metadata": {
  "kernelspec": {
   "display_name": "Python 3 (ipykernel)",
   "language": "python",
   "name": "python3"
  },
  "language_info": {
   "codemirror_mode": {
    "name": "ipython",
    "version": 3
   },
   "file_extension": ".py",
   "mimetype": "text/x-python",
   "name": "python",
   "nbconvert_exporter": "python",
   "pygments_lexer": "ipython3",
   "version": "3.9.13"
  }
 },
 "nbformat": 4,
 "nbformat_minor": 4
}
